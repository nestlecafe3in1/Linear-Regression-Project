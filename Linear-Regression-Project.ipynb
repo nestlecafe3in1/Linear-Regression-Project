{
 "cells": [
  {
   "cell_type": "code",
   "execution_count": null,
   "metadata": {},
   "outputs": [],
   "source": []
  }
 ],
 "metadata": {
  "kernelspec": {
   "display_name": "base",
   "language": "python",
   "name": "python3"
  },
  "language_info": {
   "name": "python",
   "version": "3.9.12 (main, Apr  4 2022, 05:22:27) [MSC v.1916 64 bit (AMD64)]"
  },
  "orig_nbformat": 4,
  "vscode": {
   "interpreter": {
    "hash": "3e0b62952ce69262229bcbc9dd2320285661bc7961a1ea3fc24ea17004e02366"
   }
  }
 },
 "nbformat": 4,
 "nbformat_minor": 2
}
